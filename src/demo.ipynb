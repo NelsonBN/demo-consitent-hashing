{
 "cells": [
  {
   "cell_type": "markdown",
   "metadata": {},
   "source": [
    "# Basic way to distribute keys to servers\n",
    "\n",
    "```math\n",
    "serverIndex = hash(key) % poolSize\n",
    "```\n",
    "`poolSize` -> Is the number of servers in pool"
   ]
  },
  {
   "cell_type": "code",
   "execution_count": 1,
   "metadata": {},
   "outputs": [
    {
     "name": "stdout",
     "output_type": "stream",
     "text": [
      "input: Dog, \t hash: 8684434130352755165, \t server: [1] server2\n",
      "input: Cat, \t hash: 6302844791040273995, \t server: [3] server4\n",
      "input: Bear, \t hash: -1246030912180771976, \t server: [0] server1\n",
      "input: Fish, \t hash: -4951339083657588123, \t server: [1] server2\n",
      "input: Horse, \t hash: -2581298552237458487, \t server: [1] server2\n",
      "input: Bird, \t hash: -6083292957979126655, \t server: [1] server2\n"
     ]
    }
   ],
   "source": [
    "poolServers = [ \"server1\", \"server2\", \"server3\", \"server4\" ]\n",
    "poolSize = len(poolServers)\n",
    "inputs = [ \"Dog\", \"Cat\", \"Bear\", \"Fish\", \"Horse\", \"Bird\" ]\n",
    "\n",
    "for input in inputs:\n",
    "    _hash = hash(input)\n",
    "    serverIndex = _hash % poolSize\n",
    "    print(f'input: {input}, \\t hash: {hash(input)}, \\t server: [{serverIndex}] {poolServers[serverIndex]}')"
   ]
  },
  {
   "cell_type": "markdown",
   "metadata": {},
   "source": [
    "## Rehashing problem"
   ]
  },
  {
   "cell_type": "code",
   "execution_count": 1,
   "metadata": {},
   "outputs": [
    {
     "name": "stdout",
     "output_type": "stream",
     "text": [
      "input: Dog, \t server OK: [1] server2, \t server NOK: [2] server4\n",
      "input: Car, \t server OK: [2] server3, \t server NOK: [3] server5\n",
      "input: Bear, \t server OK: [3] server4, \t server NOK: [2] server4\n",
      "input: Fish, \t server OK: [0] server1, \t server NOK: [3] server5\n",
      "input: Horse, \t server OK: [2] server3, \t server NOK: [3] server5\n",
      "input: Bird, \t server OK: [2] server3, \t server NOK: [1] server2\n"
     ]
    }
   ],
   "source": [
    "poolServersOK = [ \"server1\", \"server2\", \"server3\", \"server4\", \"server5\" ]\n",
    "poolServersNOK = [ \"server1\", \"server2\", \"server4\", \"server5\" ]\n",
    "\n",
    "poolSizeOK = len(poolServersOK)\n",
    "poolSizeNOK = len(poolServersNOK)\n",
    "inputs = [ \"Dog\", \"Car\", \"Bear\", \"Fish\", \"Horse\", \"Bird\" ]\n",
    "\n",
    "for input in inputs:\n",
    "    _hash = hash(input)\n",
    "    serverIndexOK = _hash % poolSizeOK\n",
    "    serverIndexNOK = _hash % poolSizeNOK\n",
    "    print(f'input: {input}, \\t server OK: [{serverIndexOK}] {poolServersOK[serverIndexOK]}, \\t server NOK: [{serverIndexNOK}] {poolServersNOK[serverIndexNOK]}')"
   ]
  }
 ],
 "metadata": {
  "kernelspec": {
   "display_name": "Python 3",
   "language": "python",
   "name": "python3"
  },
  "language_info": {
   "codemirror_mode": {
    "name": "ipython",
    "version": 3
   },
   "file_extension": ".py",
   "mimetype": "text/x-python",
   "name": "python",
   "nbconvert_exporter": "python",
   "pygments_lexer": "ipython3",
   "version": "3.11.8"
  }
 },
 "nbformat": 4,
 "nbformat_minor": 2
}
